{
 "cells": [
  {
   "cell_type": "markdown",
   "id": "744e4540-5b5f-486e-ae8e-facffebfcff1",
   "metadata": {},
   "source": [
    "Different algorithms were used to estimate both the price and the street where the house is located.\n",
    "The KNeighborsClassifier model was used because it was the most reliable in predictions. The model worked with a probability of 0.81 for house price prediction and 0.85 for street prediction. The code lines and outputs are as follows."
   ]
  },
  {
   "cell_type": "code",
   "execution_count": 16,
   "id": "12d7aa71-26af-44e0-8062-b70acb071d09",
   "metadata": {},
   "outputs": [],
   "source": [
    "import pandas as pd\n",
    "import numpy as np\n",
    "import matplotlib.pyplot as plt\n",
    "import seaborn as sns\n",
    "from sklearn.model_selection import train_test_split\n",
    "from sklearn.preprocessing import LabelEncoder, MinMaxScaler\n",
    "from sklearn.neighbors import KNeighborsClassifier\n",
    "from sklearn.linear_model import LinearRegression\n",
    "from sklearn.ensemble import RandomForestRegressor\n",
    "from sklearn.metrics import mean_squared_error, r2_score\n",
    "from sklearn.svm import SVC\n",
    "from sklearn.metrics import accuracy_score, classification_report\n",
    "import pickle"
   ]
  },
  {
   "cell_type": "code",
   "execution_count": 48,
   "id": "9227fb4b-db89-4db0-8948-80c7a8fc6b3a",
   "metadata": {},
   "outputs": [
    {
     "data": {
      "text/html": [
       "<div>\n",
       "<style scoped>\n",
       "    .dataframe tbody tr th:only-of-type {\n",
       "        vertical-align: middle;\n",
       "    }\n",
       "\n",
       "    .dataframe tbody tr th {\n",
       "        vertical-align: top;\n",
       "    }\n",
       "\n",
       "    .dataframe thead th {\n",
       "        text-align: right;\n",
       "    }\n",
       "</style>\n",
       "<table border=\"1\" class=\"dataframe\">\n",
       "  <thead>\n",
       "    <tr style=\"text-align: right;\">\n",
       "      <th></th>\n",
       "      <th>BROKERTITLE</th>\n",
       "      <th>TYPE</th>\n",
       "      <th>PRICE</th>\n",
       "      <th>BEDS</th>\n",
       "      <th>BATH</th>\n",
       "      <th>PROPERTYSQFT</th>\n",
       "      <th>ADDRESS</th>\n",
       "      <th>STATE</th>\n",
       "      <th>MAIN_ADDRESS</th>\n",
       "      <th>ADMINISTRATIVE_AREA_LEVEL_2</th>\n",
       "      <th>LOCALITY</th>\n",
       "      <th>SUBLOCALITY</th>\n",
       "      <th>STREET_NAME</th>\n",
       "      <th>LONG_NAME</th>\n",
       "      <th>FORMATTED_ADDRESS</th>\n",
       "      <th>LATITUDE</th>\n",
       "      <th>LONGITUDE</th>\n",
       "    </tr>\n",
       "  </thead>\n",
       "  <tbody>\n",
       "    <tr>\n",
       "      <th>0</th>\n",
       "      <td>Brokered by Douglas Elliman  -111 Fifth Ave</td>\n",
       "      <td>Condo for sale</td>\n",
       "      <td>315000</td>\n",
       "      <td>2</td>\n",
       "      <td>2.000000</td>\n",
       "      <td>1400.0</td>\n",
       "      <td>2 E 55th St Unit 803</td>\n",
       "      <td>New York, NY 10022</td>\n",
       "      <td>2 E 55th St Unit 803New York, NY 10022</td>\n",
       "      <td>New York County</td>\n",
       "      <td>New York</td>\n",
       "      <td>Manhattan</td>\n",
       "      <td>East 55th Street</td>\n",
       "      <td>Regis Residence</td>\n",
       "      <td>Regis Residence, 2 E 55th St #803, New York, N...</td>\n",
       "      <td>40.761255</td>\n",
       "      <td>-73.974483</td>\n",
       "    </tr>\n",
       "    <tr>\n",
       "      <th>1</th>\n",
       "      <td>Brokered by Serhant</td>\n",
       "      <td>Condo for sale</td>\n",
       "      <td>195000000</td>\n",
       "      <td>7</td>\n",
       "      <td>10.000000</td>\n",
       "      <td>17545.0</td>\n",
       "      <td>Central Park Tower Penthouse-217 W 57th New Yo...</td>\n",
       "      <td>New York, NY 10019</td>\n",
       "      <td>Central Park Tower Penthouse-217 W 57th New Yo...</td>\n",
       "      <td>United States</td>\n",
       "      <td>New York</td>\n",
       "      <td>New York County</td>\n",
       "      <td>New York</td>\n",
       "      <td>West 57th Street</td>\n",
       "      <td>217 W 57th St, New York, NY 10019, USA</td>\n",
       "      <td>40.766393</td>\n",
       "      <td>-73.980991</td>\n",
       "    </tr>\n",
       "    <tr>\n",
       "      <th>2</th>\n",
       "      <td>Brokered by Sowae Corp</td>\n",
       "      <td>House for sale</td>\n",
       "      <td>260000</td>\n",
       "      <td>4</td>\n",
       "      <td>2.000000</td>\n",
       "      <td>2015.0</td>\n",
       "      <td>620 Sinclair Ave</td>\n",
       "      <td>Staten Island, NY 10312</td>\n",
       "      <td>620 Sinclair AveStaten Island, NY 10312</td>\n",
       "      <td>United States</td>\n",
       "      <td>New York</td>\n",
       "      <td>Richmond County</td>\n",
       "      <td>Staten Island</td>\n",
       "      <td>Sinclair Avenue</td>\n",
       "      <td>620 Sinclair Ave, Staten Island, NY 10312, USA</td>\n",
       "      <td>40.541805</td>\n",
       "      <td>-74.196109</td>\n",
       "    </tr>\n",
       "    <tr>\n",
       "      <th>3</th>\n",
       "      <td>Brokered by COMPASS</td>\n",
       "      <td>Condo for sale</td>\n",
       "      <td>69000</td>\n",
       "      <td>3</td>\n",
       "      <td>1.000000</td>\n",
       "      <td>445.0</td>\n",
       "      <td>2 E 55th St Unit 908W33</td>\n",
       "      <td>Manhattan, NY 10022</td>\n",
       "      <td>2 E 55th St Unit 908W33Manhattan, NY 10022</td>\n",
       "      <td>United States</td>\n",
       "      <td>New York</td>\n",
       "      <td>New York County</td>\n",
       "      <td>New York</td>\n",
       "      <td>East 55th Street</td>\n",
       "      <td>2 E 55th St, New York, NY 10022, USA</td>\n",
       "      <td>40.761398</td>\n",
       "      <td>-73.974613</td>\n",
       "    </tr>\n",
       "    <tr>\n",
       "      <th>4</th>\n",
       "      <td>Brokered by Sotheby's International Realty - E...</td>\n",
       "      <td>Townhouse for sale</td>\n",
       "      <td>55000000</td>\n",
       "      <td>7</td>\n",
       "      <td>2.373861</td>\n",
       "      <td>14175.0</td>\n",
       "      <td>5 E 64th St</td>\n",
       "      <td>New York, NY 10065</td>\n",
       "      <td>5 E 64th StNew York, NY 10065</td>\n",
       "      <td>United States</td>\n",
       "      <td>New York</td>\n",
       "      <td>New York County</td>\n",
       "      <td>New York</td>\n",
       "      <td>East 64th Street</td>\n",
       "      <td>5 E 64th St, New York, NY 10065, USA</td>\n",
       "      <td>40.767224</td>\n",
       "      <td>-73.969856</td>\n",
       "    </tr>\n",
       "  </tbody>\n",
       "</table>\n",
       "</div>"
      ],
      "text/plain": [
       "                                         BROKERTITLE                TYPE  \\\n",
       "0        Brokered by Douglas Elliman  -111 Fifth Ave      Condo for sale   \n",
       "1                                Brokered by Serhant      Condo for sale   \n",
       "2                             Brokered by Sowae Corp      House for sale   \n",
       "3                                Brokered by COMPASS      Condo for sale   \n",
       "4  Brokered by Sotheby's International Realty - E...  Townhouse for sale   \n",
       "\n",
       "       PRICE  BEDS       BATH  PROPERTYSQFT  \\\n",
       "0     315000     2   2.000000        1400.0   \n",
       "1  195000000     7  10.000000       17545.0   \n",
       "2     260000     4   2.000000        2015.0   \n",
       "3      69000     3   1.000000         445.0   \n",
       "4   55000000     7   2.373861       14175.0   \n",
       "\n",
       "                                             ADDRESS                    STATE  \\\n",
       "0                               2 E 55th St Unit 803       New York, NY 10022   \n",
       "1  Central Park Tower Penthouse-217 W 57th New Yo...       New York, NY 10019   \n",
       "2                                   620 Sinclair Ave  Staten Island, NY 10312   \n",
       "3                            2 E 55th St Unit 908W33      Manhattan, NY 10022   \n",
       "4                                        5 E 64th St       New York, NY 10065   \n",
       "\n",
       "                                        MAIN_ADDRESS  \\\n",
       "0             2 E 55th St Unit 803New York, NY 10022   \n",
       "1  Central Park Tower Penthouse-217 W 57th New Yo...   \n",
       "2            620 Sinclair AveStaten Island, NY 10312   \n",
       "3         2 E 55th St Unit 908W33Manhattan, NY 10022   \n",
       "4                      5 E 64th StNew York, NY 10065   \n",
       "\n",
       "  ADMINISTRATIVE_AREA_LEVEL_2  LOCALITY      SUBLOCALITY       STREET_NAME  \\\n",
       "0             New York County  New York        Manhattan  East 55th Street   \n",
       "1               United States  New York  New York County          New York   \n",
       "2               United States  New York  Richmond County     Staten Island   \n",
       "3               United States  New York  New York County          New York   \n",
       "4               United States  New York  New York County          New York   \n",
       "\n",
       "          LONG_NAME                                  FORMATTED_ADDRESS  \\\n",
       "0   Regis Residence  Regis Residence, 2 E 55th St #803, New York, N...   \n",
       "1  West 57th Street             217 W 57th St, New York, NY 10019, USA   \n",
       "2   Sinclair Avenue     620 Sinclair Ave, Staten Island, NY 10312, USA   \n",
       "3  East 55th Street               2 E 55th St, New York, NY 10022, USA   \n",
       "4  East 64th Street               5 E 64th St, New York, NY 10065, USA   \n",
       "\n",
       "    LATITUDE  LONGITUDE  \n",
       "0  40.761255 -73.974483  \n",
       "1  40.766393 -73.980991  \n",
       "2  40.541805 -74.196109  \n",
       "3  40.761398 -73.974613  \n",
       "4  40.767224 -73.969856  "
      ]
     },
     "execution_count": 48,
     "metadata": {},
     "output_type": "execute_result"
    }
   ],
   "source": [
    "df = pd.read_csv('datasets/NY_House_Dataset.csv')\n",
    "df.head()"
   ]
  },
  {
   "cell_type": "code",
   "execution_count": 49,
   "id": "987df275",
   "metadata": {},
   "outputs": [
    {
     "data": {
      "text/plain": [
       "array(['Manhattan', 'New York County', 'Richmond County', 'Kings County',\n",
       "       'New York', 'East Bronx', 'Brooklyn', 'The Bronx', 'Queens',\n",
       "       'Staten Island', 'Queens County', 'Bronx County', 'Coney Island',\n",
       "       'Brooklyn Heights', 'Jackson Heights', 'Riverdale', 'Rego Park',\n",
       "       'Fort Hamilton', 'Flushing', 'Dumbo', 'Snyder Avenue'],\n",
       "      dtype=object)"
      ]
     },
     "execution_count": 49,
     "metadata": {},
     "output_type": "execute_result"
    }
   ],
   "source": [
    "df['SUBLOCALITY'].unique()"
   ]
  },
  {
   "cell_type": "code",
   "execution_count": 50,
   "id": "1c024785-e5ef-4f0b-9594-8aa64c3b0e23",
   "metadata": {},
   "outputs": [],
   "source": [
    "df = df[['TYPE','BEDS','BATH','LOCALITY','SUBLOCALITY','STREET_NAME','PROPERTYSQFT','PRICE']]"
   ]
  },
  {
   "cell_type": "code",
   "execution_count": 51,
   "id": "e46dae6b-af86-4bbf-9b2c-3e266c6ea4d6",
   "metadata": {},
   "outputs": [
    {
     "data": {
      "text/html": [
       "<div>\n",
       "<style scoped>\n",
       "    .dataframe tbody tr th:only-of-type {\n",
       "        vertical-align: middle;\n",
       "    }\n",
       "\n",
       "    .dataframe tbody tr th {\n",
       "        vertical-align: top;\n",
       "    }\n",
       "\n",
       "    .dataframe thead th {\n",
       "        text-align: right;\n",
       "    }\n",
       "</style>\n",
       "<table border=\"1\" class=\"dataframe\">\n",
       "  <thead>\n",
       "    <tr style=\"text-align: right;\">\n",
       "      <th></th>\n",
       "      <th>TYPE</th>\n",
       "      <th>BEDS</th>\n",
       "      <th>BATH</th>\n",
       "      <th>LOCALITY</th>\n",
       "      <th>SUBLOCALITY</th>\n",
       "      <th>STREET_NAME</th>\n",
       "      <th>PROPERTYSQFT</th>\n",
       "      <th>PRICE</th>\n",
       "    </tr>\n",
       "  </thead>\n",
       "  <tbody>\n",
       "    <tr>\n",
       "      <th>0</th>\n",
       "      <td>Condo for sale</td>\n",
       "      <td>2</td>\n",
       "      <td>2.000000</td>\n",
       "      <td>New York</td>\n",
       "      <td>Manhattan</td>\n",
       "      <td>East 55th Street</td>\n",
       "      <td>1400.0</td>\n",
       "      <td>315000</td>\n",
       "    </tr>\n",
       "    <tr>\n",
       "      <th>1</th>\n",
       "      <td>Condo for sale</td>\n",
       "      <td>7</td>\n",
       "      <td>10.000000</td>\n",
       "      <td>New York</td>\n",
       "      <td>New York County</td>\n",
       "      <td>New York</td>\n",
       "      <td>17545.0</td>\n",
       "      <td>195000000</td>\n",
       "    </tr>\n",
       "    <tr>\n",
       "      <th>2</th>\n",
       "      <td>House for sale</td>\n",
       "      <td>4</td>\n",
       "      <td>2.000000</td>\n",
       "      <td>New York</td>\n",
       "      <td>Richmond County</td>\n",
       "      <td>Staten Island</td>\n",
       "      <td>2015.0</td>\n",
       "      <td>260000</td>\n",
       "    </tr>\n",
       "    <tr>\n",
       "      <th>3</th>\n",
       "      <td>Condo for sale</td>\n",
       "      <td>3</td>\n",
       "      <td>1.000000</td>\n",
       "      <td>New York</td>\n",
       "      <td>New York County</td>\n",
       "      <td>New York</td>\n",
       "      <td>445.0</td>\n",
       "      <td>69000</td>\n",
       "    </tr>\n",
       "    <tr>\n",
       "      <th>4</th>\n",
       "      <td>Townhouse for sale</td>\n",
       "      <td>7</td>\n",
       "      <td>2.373861</td>\n",
       "      <td>New York</td>\n",
       "      <td>New York County</td>\n",
       "      <td>New York</td>\n",
       "      <td>14175.0</td>\n",
       "      <td>55000000</td>\n",
       "    </tr>\n",
       "  </tbody>\n",
       "</table>\n",
       "</div>"
      ],
      "text/plain": [
       "                 TYPE  BEDS       BATH  LOCALITY      SUBLOCALITY  \\\n",
       "0      Condo for sale     2   2.000000  New York        Manhattan   \n",
       "1      Condo for sale     7  10.000000  New York  New York County   \n",
       "2      House for sale     4   2.000000  New York  Richmond County   \n",
       "3      Condo for sale     3   1.000000  New York  New York County   \n",
       "4  Townhouse for sale     7   2.373861  New York  New York County   \n",
       "\n",
       "        STREET_NAME  PROPERTYSQFT      PRICE  \n",
       "0  East 55th Street        1400.0     315000  \n",
       "1          New York       17545.0  195000000  \n",
       "2     Staten Island        2015.0     260000  \n",
       "3          New York         445.0      69000  \n",
       "4          New York       14175.0   55000000  "
      ]
     },
     "execution_count": 51,
     "metadata": {},
     "output_type": "execute_result"
    }
   ],
   "source": [
    "df.head()"
   ]
  },
  {
   "cell_type": "code",
   "execution_count": 52,
   "id": "cbde89f5-852d-4804-b39a-3ffd983f625c",
   "metadata": {},
   "outputs": [
    {
     "name": "stdout",
     "output_type": "stream",
     "text": [
      "<class 'pandas.core.frame.DataFrame'>\n",
      "RangeIndex: 4801 entries, 0 to 4800\n",
      "Data columns (total 8 columns):\n",
      " #   Column        Non-Null Count  Dtype  \n",
      "---  ------        --------------  -----  \n",
      " 0   TYPE          4801 non-null   object \n",
      " 1   BEDS          4801 non-null   int64  \n",
      " 2   BATH          4801 non-null   float64\n",
      " 3   LOCALITY      4801 non-null   object \n",
      " 4   SUBLOCALITY   4801 non-null   object \n",
      " 5   STREET_NAME   4801 non-null   object \n",
      " 6   PROPERTYSQFT  4801 non-null   float64\n",
      " 7   PRICE         4801 non-null   int64  \n",
      "dtypes: float64(2), int64(2), object(4)\n",
      "memory usage: 300.2+ KB\n"
     ]
    }
   ],
   "source": [
    "df.info()"
   ]
  },
  {
   "cell_type": "code",
   "execution_count": 53,
   "id": "5ef6f061-d5ce-40a0-8128-bc7639bebc5f",
   "metadata": {},
   "outputs": [
    {
     "data": {
      "text/plain": [
       "174"
      ]
     },
     "execution_count": 53,
     "metadata": {},
     "output_type": "execute_result"
    }
   ],
   "source": [
    "df['STREET_NAME'].nunique()"
   ]
  },
  {
   "cell_type": "code",
   "execution_count": 54,
   "id": "e296f50f-ebac-4aab-ae6f-06ddf4ad95f2",
   "metadata": {},
   "outputs": [],
   "source": [
    "df.columns = ['type','beds','bath','location','sublocation','street','property','price']"
   ]
  },
  {
   "cell_type": "code",
   "execution_count": 77,
   "id": "47ccd2b9",
   "metadata": {},
   "outputs": [],
   "source": [
    "df.drop('pred',axis=1,inplace=True)"
   ]
  },
  {
   "cell_type": "code",
   "execution_count": 78,
   "id": "22431b24",
   "metadata": {},
   "outputs": [],
   "source": [
    "df['bath'] = df['bath'].astype(int)\n",
    "df['property'] = df['property'].astype(int)"
   ]
  },
  {
   "cell_type": "code",
   "execution_count": 79,
   "id": "85aab2fd",
   "metadata": {},
   "outputs": [
    {
     "name": "stdout",
     "output_type": "stream",
     "text": [
      "<class 'pandas.core.frame.DataFrame'>\n",
      "RangeIndex: 4801 entries, 0 to 4800\n",
      "Data columns (total 7 columns):\n",
      " #   Column       Non-Null Count  Dtype\n",
      "---  ------       --------------  -----\n",
      " 0   type         4801 non-null   int32\n",
      " 1   beds         4801 non-null   int64\n",
      " 2   bath         4801 non-null   int32\n",
      " 3   location     4801 non-null   int32\n",
      " 4   sublocation  4801 non-null   int32\n",
      " 5   property     4801 non-null   int32\n",
      " 6   price        4801 non-null   int64\n",
      "dtypes: int32(5), int64(2)\n",
      "memory usage: 168.9 KB\n"
     ]
    }
   ],
   "source": [
    "df.info()"
   ]
  },
  {
   "cell_type": "code",
   "execution_count": 80,
   "id": "7452d5b4",
   "metadata": {},
   "outputs": [
    {
     "data": {
      "text/plain": [
       "[]"
      ]
     },
     "execution_count": 80,
     "metadata": {},
     "output_type": "execute_result"
    }
   ],
   "source": [
    "cat_cols = [col for col in df.columns if df[col].dtype in ['object']]\n",
    "cat_cols"
   ]
  },
  {
   "cell_type": "code",
   "execution_count": 59,
   "id": "15cfe014",
   "metadata": {},
   "outputs": [
    {
     "name": "stdout",
     "output_type": "stream",
     "text": [
      "['Condo for sale' 'House for sale' 'Townhouse for sale' 'Co-op for sale'\n",
      " 'Multi-family home for sale' 'For sale' 'Contingent' 'Land for sale'\n",
      " 'Foreclosure' 'Pending' 'Coming Soon' 'Mobile house for sale'\n",
      " 'Condop for sale']\n",
      "['New York' 'New York County' 'The Bronx' 'Kings County' 'Bronx County'\n",
      " 'Queens County' 'Richmond County' 'United States' 'Brooklyn' 'Queens'\n",
      " 'Flatbush']\n",
      "['Manhattan' 'New York County' 'Richmond County' 'Kings County' 'New York'\n",
      " 'East Bronx' 'Brooklyn' 'The Bronx' 'Queens' 'Staten Island'\n",
      " 'Queens County' 'Bronx County' 'Coney Island' 'Brooklyn Heights'\n",
      " 'Jackson Heights' 'Riverdale' 'Rego Park' 'Fort Hamilton' 'Flushing'\n",
      " 'Dumbo' 'Snyder Avenue']\n",
      "['East 55th Street' 'New York' 'Staten Island' 'Brooklyn' 'Manhattan'\n",
      " 'Morrison Avenue' 'Midwood' 'Concourse Village' 'Flushing' 'Elmhurst'\n",
      " 'Annadale' 'Queens' 'Fort Hamilton' 'North Riverdale' 'Rego Park'\n",
      " 'Forest Hills' 'The Bronx' 'Dongan Hills' 'Jackson Heights'\n",
      " 'Kings County' 'Clifton' 'Mariners Harbor' 'Dyker Heights' 'Williamsburg'\n",
      " 'Concourse' 'Mid Island' 'Centre Street' 'Cobble Hill' 'Richmond County'\n",
      " 'Park Slope' 'Brighton Beach' 'Flatbush' 'Prospect Heights' 'Woodhaven'\n",
      " 'Bedford-Stuyvesant' 'Jamaica' 'Spuyten Duyvil' 'Bay Ridge' 'Shore Acres'\n",
      " 'Bayside' 'Glen Oaks' 'Fresh Meadows' 'Highbridge' 'Sheepshead Bay'\n",
      " 'Rector Place' 'Kew Gardens' 'Bushwick' 'Hudson Hill' 'Rosedale'\n",
      " 'East Bronx' 'Parkchester' 'Borough Park' 'Brooklyn Heights'\n",
      " 'Little Haiti' 'Canarsie' 'Kensington' 'East 110th Street'\n",
      " 'East New York' 'Flatlands' 'Queens County' 'Pelham Bay' 'Howard Beach'\n",
      " 'Downtown Brooklyn' 'City Island' 'Fieldston' 'Westchester Square'\n",
      " 'Rockaway Park' 'Riverdale' 'Bulls Head' 'Gerritsen Beach'\n",
      " 'Crown Heights' 'New Dorp' 'West Bronx' 'Ocean Hill' 'Gravesend'\n",
      " 'Castleton Corners' 'New York County' 'Seagate' 'Gowanus'\n",
      " 'Windsor Terrace' 'Bath Beach' 'Norwood' 'Whitestone' 'Surf Avenue'\n",
      " 'Great Kills' 'Homecrest' 'Long Island City' 'Woodside' 'Maspeth'\n",
      " 'Sunset Park' 'Douglaston' 'Queens Village' 'Astoria' 'Dumbo'\n",
      " 'New Springville' 'Corona' 'Madison' 'Bensonhurst' 'Fordham Manor'\n",
      " 'Greenpoint' 'Coney Island' 'Mill Basin' 'Carroll Gardens'\n",
      " 'Old Fulton Street' 'Ozone Park' 'East 74th Street' 'Floral Park'\n",
      " '35th Avenue' 'Far Rockaway' 'Beechhurst' 'Henry Hudson Parkway'\n",
      " 'Rosebank' 'Kingsbridge' 'Bergen Beach' 'Ridgewood' 'Oakwood'\n",
      " 'Clinton Hill' 'Richmond Hill' 'Auburndale' 'Southside'\n",
      " 'Little Caribbean' 'PECK SLIP' 'Fort Greene' 'Boerum Hill' 'Foxhurst'\n",
      " 'Red Hook' 'Columbia Street Waterfront District' 'East Flatbush'\n",
      " 'Sunnyside' 'Mapleton' '98th Place' 'East 22nd Street' 'Manhattan Beach'\n",
      " 'East Elmhurst' 'Oxford Avenue' 'Bay Terrace' 'Arverne' 'Midland Beach'\n",
      " 'Vinegar Hill' 'Little Neck' 'West Brighton' 'East 96th Street'\n",
      " 'Clason Point' '5th Avenue' 'Shore Road' 'West 56th Street'\n",
      " 'Middle Village' 'West 111th Street' 'Prospect Lefferts Gardens'\n",
      " 'Woodstock' 'Melrose' 'East 10th Street' '139th Street' 'Park Avenue'\n",
      " 'West 65th Street' 'John Street' 'East End Avenue' 'Brownsville' '3G'\n",
      " 'West 13th Street' 'College Point' 'Central Park West' 'East 88th Street'\n",
      " 'Allerton' 'Morrisania' 'West 64th Street' 'Bronx County' '61st Street'\n",
      " 'Cypress Hills' '2501' '67th Drive' 'Todt Hill' 'Saunders Street'\n",
      " 'Mount Eden']\n"
     ]
    }
   ],
   "source": [
    "for i in cat_cols:\n",
    "    print(df[i].unique())"
   ]
  },
  {
   "cell_type": "code",
   "execution_count": 81,
   "id": "e1b054ea",
   "metadata": {},
   "outputs": [],
   "source": [
    "lb = LabelEncoder()\n",
    "\n",
    "for col in cat_cols:\n",
    "    df[col] = lb.fit_transform(df[col])"
   ]
  },
  {
   "cell_type": "code",
   "execution_count": 82,
   "id": "5a5d1c9f",
   "metadata": {},
   "outputs": [
    {
     "data": {
      "text/html": [
       "<div>\n",
       "<style scoped>\n",
       "    .dataframe tbody tr th:only-of-type {\n",
       "        vertical-align: middle;\n",
       "    }\n",
       "\n",
       "    .dataframe tbody tr th {\n",
       "        vertical-align: top;\n",
       "    }\n",
       "\n",
       "    .dataframe thead th {\n",
       "        text-align: right;\n",
       "    }\n",
       "</style>\n",
       "<table border=\"1\" class=\"dataframe\">\n",
       "  <thead>\n",
       "    <tr style=\"text-align: right;\">\n",
       "      <th></th>\n",
       "      <th>type</th>\n",
       "      <th>beds</th>\n",
       "      <th>bath</th>\n",
       "      <th>location</th>\n",
       "      <th>sublocation</th>\n",
       "      <th>property</th>\n",
       "      <th>price</th>\n",
       "    </tr>\n",
       "  </thead>\n",
       "  <tbody>\n",
       "    <tr>\n",
       "      <th>0</th>\n",
       "      <td>2</td>\n",
       "      <td>2</td>\n",
       "      <td>2</td>\n",
       "      <td>4</td>\n",
       "      <td>10</td>\n",
       "      <td>1400</td>\n",
       "      <td>315000</td>\n",
       "    </tr>\n",
       "    <tr>\n",
       "      <th>1</th>\n",
       "      <td>2</td>\n",
       "      <td>7</td>\n",
       "      <td>10</td>\n",
       "      <td>4</td>\n",
       "      <td>12</td>\n",
       "      <td>17545</td>\n",
       "      <td>195000000</td>\n",
       "    </tr>\n",
       "    <tr>\n",
       "      <th>2</th>\n",
       "      <td>7</td>\n",
       "      <td>4</td>\n",
       "      <td>2</td>\n",
       "      <td>4</td>\n",
       "      <td>16</td>\n",
       "      <td>2015</td>\n",
       "      <td>260000</td>\n",
       "    </tr>\n",
       "    <tr>\n",
       "      <th>3</th>\n",
       "      <td>2</td>\n",
       "      <td>3</td>\n",
       "      <td>1</td>\n",
       "      <td>4</td>\n",
       "      <td>12</td>\n",
       "      <td>445</td>\n",
       "      <td>69000</td>\n",
       "    </tr>\n",
       "    <tr>\n",
       "      <th>4</th>\n",
       "      <td>12</td>\n",
       "      <td>7</td>\n",
       "      <td>2</td>\n",
       "      <td>4</td>\n",
       "      <td>12</td>\n",
       "      <td>14175</td>\n",
       "      <td>55000000</td>\n",
       "    </tr>\n",
       "  </tbody>\n",
       "</table>\n",
       "</div>"
      ],
      "text/plain": [
       "   type  beds  bath  location  sublocation  property      price\n",
       "0     2     2     2         4           10      1400     315000\n",
       "1     2     7    10         4           12     17545  195000000\n",
       "2     7     4     2         4           16      2015     260000\n",
       "3     2     3     1         4           12       445      69000\n",
       "4    12     7     2         4           12     14175   55000000"
      ]
     },
     "execution_count": 82,
     "metadata": {},
     "output_type": "execute_result"
    }
   ],
   "source": [
    "df.head()"
   ]
  },
  {
   "cell_type": "code",
   "execution_count": 71,
   "id": "4547ef21",
   "metadata": {},
   "outputs": [],
   "source": [
    "df.drop('street',axis=1,inplace=True)"
   ]
  },
  {
   "cell_type": "code",
   "execution_count": 72,
   "id": "e4558616-67a9-4220-9531-1b2454343483",
   "metadata": {},
   "outputs": [],
   "source": [
    "x = df.drop('price',axis=1)\n",
    "y = df['price']"
   ]
  },
  {
   "cell_type": "code",
   "execution_count": 85,
   "id": "5284f2f3-d6a6-4589-b1ff-3127fe0322e6",
   "metadata": {},
   "outputs": [],
   "source": [
    "x_train, x_test, y_train, y_test = train_test_split(x,y,test_size=0.2,random_state=42)"
   ]
  },
  {
   "cell_type": "code",
   "execution_count": 86,
   "id": "0cd8d30b-c179-4884-8fae-d5884b325835",
   "metadata": {},
   "outputs": [
    {
     "name": "stdout",
     "output_type": "stream",
     "text": [
      "4927881340595.631\n",
      "0.9949866239915899\n",
      "0.5730056238283691\n"
     ]
    }
   ],
   "source": [
    "knn = KNeighborsClassifier(n_neighbors=1)\n",
    "knn.fit(x_train,y_train)\n",
    "knn_pred = knn.predict(x)\n",
    "print(mean_squared_error(y,knn_pred))\n",
    "print(r2_score(y,knn_pred))\n",
    "print(accuracy_score(y,knn_pred))"
   ]
  },
  {
   "cell_type": "code",
   "execution_count": 66,
   "id": "45e4fb7a-1561-4e1b-b8db-37b2f3304555",
   "metadata": {},
   "outputs": [
    {
     "name": "stdout",
     "output_type": "stream",
     "text": [
      "969106926436160.5\n",
      "0.014079869465394967\n"
     ]
    }
   ],
   "source": [
    "linear = LinearRegression()\n",
    "linear.fit(x_train,y_train)\n",
    "linear_pred = linear.predict(x)\n",
    "print(mean_squared_error(y,linear_pred))\n",
    "print(r2_score(y,linear_pred))"
   ]
  },
  {
   "cell_type": "code",
   "execution_count": 67,
   "id": "6f8afd8e-a5ac-4a08-98dc-211517209032",
   "metadata": {},
   "outputs": [
    {
     "name": "stdout",
     "output_type": "stream",
     "text": [
      "237616891275591.56\n",
      "0.7582606520777037\n"
     ]
    }
   ],
   "source": [
    "rf_model = RandomForestRegressor(n_estimators=100, random_state=42)\n",
    "rf_model.fit(x_train, y_train)\n",
    "rf_y_pred = rf_model.predict(x)\n",
    "print(mean_squared_error(y,rf_y_pred))\n",
    "print(r2_score(y,rf_y_pred))"
   ]
  },
  {
   "cell_type": "code",
   "execution_count": 88,
   "id": "f94c99f4",
   "metadata": {},
   "outputs": [],
   "source": [
    "with open ('price.pickle','wb') as file:\n",
    "    pickle.dump(knn, file)"
   ]
  },
  {
   "cell_type": "code",
   "execution_count": 68,
   "id": "92fd4e29",
   "metadata": {},
   "outputs": [],
   "source": [
    "df['pred'] = knn_pred"
   ]
  }
 ],
 "metadata": {
  "kernelspec": {
   "display_name": "Python 3 (ipykernel)",
   "language": "python",
   "name": "python3"
  },
  "language_info": {
   "codemirror_mode": {
    "name": "ipython",
    "version": 3
   },
   "file_extension": ".py",
   "mimetype": "text/x-python",
   "name": "python",
   "nbconvert_exporter": "python",
   "pygments_lexer": "ipython3",
   "version": "3.11.5"
  }
 },
 "nbformat": 4,
 "nbformat_minor": 5
}
